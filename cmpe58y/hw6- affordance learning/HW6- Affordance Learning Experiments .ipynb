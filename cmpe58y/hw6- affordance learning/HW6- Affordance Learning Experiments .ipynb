{
 "cells": [
  {
   "cell_type": "code",
   "execution_count": null,
   "metadata": {},
   "outputs": [],
   "source": [
    "#pdf:\n",
    "#- clustering in different channels\n",
    "#- clusters for all-channels\n",
    "#- classification accuracies for different clusters\n",
    "#- best clusters for different behaviors\n",
    "#- behaviors: consider only 0 and 3\n",
    "#- classification: SVM\n",
    "#- clustering: X-means (k-means variant)"
   ]
  },
  {
   "cell_type": "code",
   "execution_count": 4,
   "metadata": {},
   "outputs": [],
   "source": [
    "from scipy.io import arff\n",
    "from io import StringIO\n",
    "\n",
    "#reading arff files \n",
    "effect0_data, effect0_meta = arff.loadarff(\"effect_0.arff\")\n",
    "effect1_data, effect1_meta = arff.loadarff(\"effect_1.arff\")\n",
    "effect2_data, effect2_meta = arff.loadarff(\"effect_2.arff\")\n",
    "effect3_data, effect3_meta = arff.loadarff(\"effect_3.arff\")\n",
    "\n",
    "init0_data, init0_meta = arff.loadarff(\"initial_0.arff\")\n",
    "init1_data, init1_meta = arff.loadarff(\"initial_1.arff\")\n",
    "init2_data, init2_meta = arff.loadarff(\"initial_2.arff\")\n",
    "init3_data, init3_meta = arff.loadarff(\"initial_3.arff\")\n",
    "\n"
   ]
  },
  {
   "cell_type": "code",
   "execution_count": null,
   "metadata": {},
   "outputs": [],
   "source": [
    "class EffectCategoryDiscovery():\n",
    "    def __init__(self,):\n",
    "        \n",
    "        \n",
    "    def arrangeFeatureVectorsWithRespectToChannels():\n",
    "        \n",
    "    "
   ]
  }
 ],
 "metadata": {
  "kernelspec": {
   "display_name": "Python 3",
   "language": "python",
   "name": "python3"
  },
  "language_info": {
   "codemirror_mode": {
    "name": "ipython",
    "version": 3
   },
   "file_extension": ".py",
   "mimetype": "text/x-python",
   "name": "python",
   "nbconvert_exporter": "python",
   "pygments_lexer": "ipython3",
   "version": "3.7.6"
  }
 },
 "nbformat": 4,
 "nbformat_minor": 4
}
